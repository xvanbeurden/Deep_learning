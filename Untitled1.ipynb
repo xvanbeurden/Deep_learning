{
 "cells": [
  {
   "cell_type": "code",
   "execution_count": 2,
   "id": "higher-music",
   "metadata": {},
   "outputs": [
    {
     "ename": "ModuleNotFoundError",
     "evalue": "No module named 'sklearn'",
     "output_type": "error",
     "traceback": [
      "\u001b[1;31m---------------------------------------------------------------------------\u001b[0m",
      "\u001b[1;31mModuleNotFoundError\u001b[0m                       Traceback (most recent call last)",
      "\u001b[1;32m<ipython-input-2-c4db4c29ebd7>\u001b[0m in \u001b[0;36m<module>\u001b[1;34m\u001b[0m\n\u001b[0;32m     10\u001b[0m \u001b[1;32mfrom\u001b[0m \u001b[0mPIL\u001b[0m \u001b[1;32mimport\u001b[0m \u001b[0mImage\u001b[0m\u001b[1;33m\u001b[0m\u001b[1;33m\u001b[0m\u001b[0m\n\u001b[0;32m     11\u001b[0m \u001b[1;33m\u001b[0m\u001b[0m\n\u001b[1;32m---> 12\u001b[1;33m \u001b[1;32mfrom\u001b[0m \u001b[0msklearn\u001b[0m\u001b[1;33m.\u001b[0m\u001b[0mneighbors\u001b[0m \u001b[1;32mimport\u001b[0m \u001b[0mNearestNeighbors\u001b[0m\u001b[1;33m\u001b[0m\u001b[1;33m\u001b[0m\u001b[0m\n\u001b[0m\u001b[0;32m     13\u001b[0m \u001b[1;32mimport\u001b[0m \u001b[0mh5py\u001b[0m\u001b[1;33m\u001b[0m\u001b[1;33m\u001b[0m\u001b[0m\n",
      "\u001b[1;31mModuleNotFoundError\u001b[0m: No module named 'sklearn'"
     ]
    }
   ],
   "source": [
    "import torch\n",
    "#import torchvision.transforms as transforms\n",
    "import torch.utils.data as data\n",
    "\n",
    "from os.path import join, exists\n",
    "from scipy.io import loadmat\n",
    "import numpy as np\n",
    "from random import randint, random\n",
    "from collections import namedtuple\n",
    "from PIL import Image\n",
    "\n",
    "from sklearn.neighbors import NearestNeighbors\n",
    "import h5py"
   ]
  },
  {
   "cell_type": "code",
   "execution_count": 3,
   "id": "placed-baking",
   "metadata": {},
   "outputs": [],
   "source": [
    "root_dir = 'netvlad_v103/'\n",
    "if not exists(root_dir):\n",
    "    raise FileNotFoundError('root_dir is hardcoded, please adjust to point to Pittsburth dataset')\n",
    "\n",
    "struct_dir = join(root_dir, 'datasets/')\n",
    "#queries_dir = join(root_dir, 'queries_real')"
   ]
  },
  {
   "cell_type": "code",
   "execution_count": 4,
   "id": "touched-chambers",
   "metadata": {},
   "outputs": [],
   "source": [
    "def get_250k_val_set():\n",
    "    structFile = join(struct_dir, 'pitts250k_val.mat')\n",
    "    return WholeDatasetFromStruct(structFile,\n",
    "                             input_transform=input_transform())"
   ]
  },
  {
   "cell_type": "code",
   "execution_count": null,
   "id": "decreased-belarus",
   "metadata": {},
   "outputs": [],
   "source": [
    "def get_250k_test_set():\n",
    "    structFile = join(struct_dir, 'pitts250k_test.mat')\n",
    "    return WholeDatasetFromStruct(structFile,\n",
    "                             input_transform=input_transform())"
   ]
  },
  {
   "cell_type": "code",
   "execution_count": null,
   "id": "fallen-unknown",
   "metadata": {},
   "outputs": [],
   "source": [
    "def get_250k_val_query_set():\n",
    "    structFile = join(struct_dir, 'pitts250k_val.mat')\n",
    "    return QueryDatasetFromStruct(structFile,\n",
    "                             input_transform=input_transform())"
   ]
  },
  {
   "cell_type": "code",
   "execution_count": null,
   "id": "grave-houston",
   "metadata": {},
   "outputs": [],
   "source": [
    "dbStruct = namedtuple('dbStruct', ['whichSet', 'dataset', \n",
    "    'dbImage', 'utmDb', 'qImage', 'utmQ', 'numDb', 'numQ',\n",
    "    'posDistThr', 'posDistSqThr', 'nonTrivPosDistSqThr'])"
   ]
  }
 ],
 "metadata": {
  "kernelspec": {
   "display_name": "Python 3",
   "language": "python",
   "name": "python3"
  },
  "language_info": {
   "codemirror_mode": {
    "name": "ipython",
    "version": 3
   },
   "file_extension": ".py",
   "mimetype": "text/x-python",
   "name": "python",
   "nbconvert_exporter": "python",
   "pygments_lexer": "ipython3",
   "version": "3.7.10"
  }
 },
 "nbformat": 4,
 "nbformat_minor": 5
}
